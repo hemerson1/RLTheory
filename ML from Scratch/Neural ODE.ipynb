{
 "cells": [
  {
   "cell_type": "code",
   "execution_count": 63,
   "id": "4287f6ed-7c91-46e7-8d41-a5c6693fa33a",
   "metadata": {},
   "outputs": [
    {
     "name": "stdout",
     "output_type": "stream",
     "text": [
      "(10, 20)\n",
      "------------\n",
      "(10, 20)\n",
      "------------\n",
      "(10, 20)\n",
      "------------\n",
      "(10, 1)\n",
      "------------\n"
     ]
    },
    {
     "data": {
      "text/plain": [
       "array([[-0.44257146],\n",
       "       [-0.44257146],\n",
       "       [-0.44257146],\n",
       "       [-0.44257146],\n",
       "       [-0.44257146],\n",
       "       [-0.44257146],\n",
       "       [-0.44257146],\n",
       "       [-0.44257146],\n",
       "       [-0.44257146],\n",
       "       [-0.44257146]])"
      ]
     },
     "execution_count": 63,
     "metadata": {},
     "output_type": "execute_result"
    }
   ],
   "source": [
    "\"\"\"\n",
    "An Implementation of the method Neural Ordinary Differential \n",
    "Equation presented in: https://arxiv.org/abs/1806.07366\n",
    "\n",
    "\n",
    "TODO: \n",
    "- implement a residual neural network\n",
    "# - add the training loop\n",
    "# - add the backpropagation\n",
    "\n",
    "- implement a neural ODE\n",
    "\n",
    "\n",
    "NOTES:\n",
    "- residual structure doesn't make sense? inputs and outputs in the \n",
    "  residual block are being broadcasted as they don't have the same \n",
    "  dimensions. Also specifiying different depths has no effect on \n",
    "  the model predictions.\n",
    "\n",
    "\"\"\"\n",
    "\n",
    "import numpy as np\n",
    "\n",
    "\"\"\"\n",
    "Initialse the model parameters.\n",
    "\"\"\"\n",
    "def init_weights(layers, scale=1.0, seed=0):\n",
    "    rng = np.random.RandomState(seed)\n",
    "    return [(scale * rng.randn(m, n), scale * rng.randn(n))\n",
    "            for m, n in zip(layers[:-1], layers[1:])]\n",
    "\n",
    "\"\"\"\n",
    "A basic residual neural network model set up so that \n",
    "skips are performed between layers of equal dimensions.\n",
    "\"\"\"\n",
    "class residual_NN:    \n",
    "    def __init__(self, layers, skip_start, skip_end):\n",
    "        \n",
    "        # intialise the parameters\n",
    "        self.weights = init_weights(layers)\n",
    "        self.skip_start = skip_start\n",
    "        self.skip_end = skip_end\n",
    "        \n",
    "        # check the chosen settings\n",
    "        skip_warning = \"Skip layers must be equal dimensions.\" \n",
    "        for idx, l in enumerate(skip_start):            \n",
    "            assert layers[l] == layers[skip_end[idx]], skip_warning\n",
    "    \n",
    "    \"\"\"\n",
    "    Get the forward prediction of shape (batch_size, state_dim)\n",
    "    \"\"\"\n",
    "    def __call__(self, inputs):      \n",
    "        \n",
    "        prev_inputs = None\n",
    "        for l, (w, b) in enumerate(self.weights):\n",
    "            \n",
    "            # keep track of skipping \n",
    "            skip_value = 0\n",
    "            if l in self.skip_start: prev_inputs = inputs\n",
    "            if l in self.skip_end: skip_value = prev_inputs \n",
    "                        \n",
    "            # linear + activation\n",
    "            outputs = np.dot(inputs, w) + b            \n",
    "            inputs = np.tanh(outputs) + skip_value\n",
    "                        \n",
    "        return outputs    \n",
    "            \n",
    "\n",
    "model = residual_NN(\n",
    "    layers=[2, 20, 20, 20, 1],\n",
    "    skip_start=[1],\n",
    "    skip_end=[3]\n",
    ")\n",
    "\n",
    "\n",
    "model(inputs=np.ones((10, 2)))"
   ]
  }
 ],
 "metadata": {
  "kernelspec": {
   "display_name": "Python 3 (ipykernel)",
   "language": "python",
   "name": "python3"
  },
  "language_info": {
   "codemirror_mode": {
    "name": "ipython",
    "version": 3
   },
   "file_extension": ".py",
   "mimetype": "text/x-python",
   "name": "python",
   "nbconvert_exporter": "python",
   "pygments_lexer": "ipython3",
   "version": "3.8.13"
  }
 },
 "nbformat": 4,
 "nbformat_minor": 5
}
